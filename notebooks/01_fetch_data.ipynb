{
 "cells": [
  {
   "cell_type": "code",
   "execution_count": 3,
   "metadata": {},
   "outputs": [],
   "source": [
    "import requests #call API\n",
    "import pandas as pd #to change to dataframe\n",
    "from time import sleep # prevent API server overload in case of blocking the requests"
   ]
  },
  {
   "cell_type": "code",
   "execution_count": 4,
   "metadata": {},
   "outputs": [],
   "source": [
    "#Sutton coordinate\n",
    "latitude = 51.3618\n",
    "longitude = -0.1934\n",
    "\n",
    "#list of months to import\n",
    "months = ['2024-09', '2024-10', '2024-11', '2024-12', '2025-01', '2025-02']"
   ]
  },
  {
   "cell_type": "code",
   "execution_count": 5,
   "metadata": {},
   "outputs": [],
   "source": [
    "def fetch_crime_data(lat, lng, months):\n",
    "    all_data = []\n",
    "    \n",
    "    for month in months:\n",
    "        print(f\"📅 Fetching data for {month}...\")\n",
    "        \n",
    "        # API URL structure\n",
    "        url = f\"https://data.police.uk/api/crimes-street/all-crime?lat={lat}&lng={lng}&date={month}\"\n",
    "        \n",
    "        # API request\n",
    "        response = requests.get(url)\n",
    "        \n",
    "        # check the response\n",
    "        if response.status_code == 200:\n",
    "            month_data = response.json()\n",
    "            all_data.extend(month_data)\n",
    "            print(f\"✅ {len(month_data)} records fetched.\")\n",
    "        else:\n",
    "            print(f\"❌ Failed to fetch data for {month} (Status code: {response.status_code})\")\n",
    "        \n",
    "        # hold to make not too much API is requested\n",
    "        sleep(1)\n",
    "        \n",
    "    return pd.DataFrame(all_data)\n"
   ]
  },
  {
   "cell_type": "code",
   "execution_count": 6,
   "metadata": {},
   "outputs": [
    {
     "name": "stdout",
     "output_type": "stream",
     "text": [
      "📅 Fetching data for 2024-09...\n",
      "✅ 457 records fetched.\n",
      "📅 Fetching data for 2024-10...\n",
      "✅ 452 records fetched.\n",
      "📅 Fetching data for 2024-11...\n",
      "✅ 448 records fetched.\n",
      "📅 Fetching data for 2024-12...\n",
      "✅ 362 records fetched.\n",
      "📅 Fetching data for 2025-01...\n",
      "✅ 419 records fetched.\n",
      "📅 Fetching data for 2025-02...\n",
      "✅ 367 records fetched.\n"
     ]
    }
   ],
   "source": [
    "df = fetch_crime_data(latitude, longitude, months)"
   ]
  },
  {
   "cell_type": "code",
   "execution_count": 7,
   "metadata": {},
   "outputs": [],
   "source": [
    "# from location info column, extracted latitude, longitude and street_name only and saved in new columns\n",
    "df['lat'] = df['location'].apply(lambda loc: float(loc['latitude']) if loc else None)\n",
    "df['lng'] = df['location'].apply(lambda loc: float(loc['longitude']) if loc else None)\n",
    "df['street_name'] = df['location'].apply(lambda loc: loc['street']['name'] if loc and 'street' in loc else None)\n"
   ]
  },
  {
   "cell_type": "code",
   "execution_count": 8,
   "metadata": {},
   "outputs": [
    {
     "data": {
      "text/html": [
       "<div>\n",
       "<style scoped>\n",
       "    .dataframe tbody tr th:only-of-type {\n",
       "        vertical-align: middle;\n",
       "    }\n",
       "\n",
       "    .dataframe tbody tr th {\n",
       "        vertical-align: top;\n",
       "    }\n",
       "\n",
       "    .dataframe thead th {\n",
       "        text-align: right;\n",
       "    }\n",
       "</style>\n",
       "<table border=\"1\" class=\"dataframe\">\n",
       "  <thead>\n",
       "    <tr style=\"text-align: right;\">\n",
       "      <th></th>\n",
       "      <th>category</th>\n",
       "      <th>month</th>\n",
       "      <th>street_name</th>\n",
       "      <th>lat</th>\n",
       "      <th>lng</th>\n",
       "    </tr>\n",
       "  </thead>\n",
       "  <tbody>\n",
       "    <tr>\n",
       "      <th>0</th>\n",
       "      <td>anti-social-behaviour</td>\n",
       "      <td>2024-09</td>\n",
       "      <td>On or near Belsize Gardens</td>\n",
       "      <td>51.368715</td>\n",
       "      <td>-0.191930</td>\n",
       "    </tr>\n",
       "    <tr>\n",
       "      <th>1</th>\n",
       "      <td>anti-social-behaviour</td>\n",
       "      <td>2024-09</td>\n",
       "      <td>On or near Bridge Road</td>\n",
       "      <td>51.359168</td>\n",
       "      <td>-0.193872</td>\n",
       "    </tr>\n",
       "    <tr>\n",
       "      <th>2</th>\n",
       "      <td>anti-social-behaviour</td>\n",
       "      <td>2024-09</td>\n",
       "      <td>On or near Cheam Road</td>\n",
       "      <td>51.360397</td>\n",
       "      <td>-0.203017</td>\n",
       "    </tr>\n",
       "    <tr>\n",
       "      <th>3</th>\n",
       "      <td>anti-social-behaviour</td>\n",
       "      <td>2024-09</td>\n",
       "      <td>On or near The Quadrant</td>\n",
       "      <td>51.359019</td>\n",
       "      <td>-0.190660</td>\n",
       "    </tr>\n",
       "    <tr>\n",
       "      <th>4</th>\n",
       "      <td>anti-social-behaviour</td>\n",
       "      <td>2024-09</td>\n",
       "      <td>On or near Elm Grove</td>\n",
       "      <td>51.366704</td>\n",
       "      <td>-0.193892</td>\n",
       "    </tr>\n",
       "    <tr>\n",
       "      <th>5</th>\n",
       "      <td>anti-social-behaviour</td>\n",
       "      <td>2024-09</td>\n",
       "      <td>On or near Manor Place</td>\n",
       "      <td>51.365706</td>\n",
       "      <td>-0.193313</td>\n",
       "    </tr>\n",
       "    <tr>\n",
       "      <th>6</th>\n",
       "      <td>anti-social-behaviour</td>\n",
       "      <td>2024-09</td>\n",
       "      <td>On or near Gem Yard</td>\n",
       "      <td>51.370490</td>\n",
       "      <td>-0.192177</td>\n",
       "    </tr>\n",
       "    <tr>\n",
       "      <th>7</th>\n",
       "      <td>anti-social-behaviour</td>\n",
       "      <td>2024-09</td>\n",
       "      <td>On or near Dallas Road</td>\n",
       "      <td>51.358006</td>\n",
       "      <td>-0.214270</td>\n",
       "    </tr>\n",
       "    <tr>\n",
       "      <th>8</th>\n",
       "      <td>anti-social-behaviour</td>\n",
       "      <td>2024-09</td>\n",
       "      <td>On or near Stanley Road</td>\n",
       "      <td>51.355252</td>\n",
       "      <td>-0.197128</td>\n",
       "    </tr>\n",
       "    <tr>\n",
       "      <th>9</th>\n",
       "      <td>anti-social-behaviour</td>\n",
       "      <td>2024-09</td>\n",
       "      <td>On or near Park Road</td>\n",
       "      <td>51.359398</td>\n",
       "      <td>-0.215336</td>\n",
       "    </tr>\n",
       "  </tbody>\n",
       "</table>\n",
       "</div>"
      ],
      "text/plain": [
       "                category    month                 street_name        lat  \\\n",
       "0  anti-social-behaviour  2024-09  On or near Belsize Gardens  51.368715   \n",
       "1  anti-social-behaviour  2024-09      On or near Bridge Road  51.359168   \n",
       "2  anti-social-behaviour  2024-09       On or near Cheam Road  51.360397   \n",
       "3  anti-social-behaviour  2024-09     On or near The Quadrant  51.359019   \n",
       "4  anti-social-behaviour  2024-09        On or near Elm Grove  51.366704   \n",
       "5  anti-social-behaviour  2024-09      On or near Manor Place  51.365706   \n",
       "6  anti-social-behaviour  2024-09         On or near Gem Yard  51.370490   \n",
       "7  anti-social-behaviour  2024-09      On or near Dallas Road  51.358006   \n",
       "8  anti-social-behaviour  2024-09     On or near Stanley Road  51.355252   \n",
       "9  anti-social-behaviour  2024-09        On or near Park Road  51.359398   \n",
       "\n",
       "        lng  \n",
       "0 -0.191930  \n",
       "1 -0.193872  \n",
       "2 -0.203017  \n",
       "3 -0.190660  \n",
       "4 -0.193892  \n",
       "5 -0.193313  \n",
       "6 -0.192177  \n",
       "7 -0.214270  \n",
       "8 -0.197128  \n",
       "9 -0.215336  "
      ]
     },
     "execution_count": 8,
     "metadata": {},
     "output_type": "execute_result"
    }
   ],
   "source": [
    "df[['category', 'month', 'street_name', 'lat', 'lng']].head(10)"
   ]
  },
  {
   "cell_type": "code",
   "execution_count": 9,
   "metadata": {},
   "outputs": [],
   "source": [
    "df.to_csv(\"sutton_crime_data.csv\")"
   ]
  },
  {
   "cell_type": "code",
   "execution_count": 14,
   "metadata": {},
   "outputs": [
    {
     "data": {
      "text/html": [
       "<div>\n",
       "<style scoped>\n",
       "    .dataframe tbody tr th:only-of-type {\n",
       "        vertical-align: middle;\n",
       "    }\n",
       "\n",
       "    .dataframe tbody tr th {\n",
       "        vertical-align: top;\n",
       "    }\n",
       "\n",
       "    .dataframe thead th {\n",
       "        text-align: right;\n",
       "    }\n",
       "</style>\n",
       "<table border=\"1\" class=\"dataframe\">\n",
       "  <thead>\n",
       "    <tr style=\"text-align: right;\">\n",
       "      <th></th>\n",
       "      <th>Street Name</th>\n",
       "      <th>Number of Crimes</th>\n",
       "    </tr>\n",
       "  </thead>\n",
       "  <tbody>\n",
       "    <tr>\n",
       "      <th>0</th>\n",
       "      <td>On or near Shopping Area</td>\n",
       "      <td>153</td>\n",
       "    </tr>\n",
       "    <tr>\n",
       "      <th>1</th>\n",
       "      <td>On or near Supermarket</td>\n",
       "      <td>117</td>\n",
       "    </tr>\n",
       "    <tr>\n",
       "      <th>2</th>\n",
       "      <td>On or near High Street</td>\n",
       "      <td>104</td>\n",
       "    </tr>\n",
       "    <tr>\n",
       "      <th>3</th>\n",
       "      <td>On or near Petrol Station</td>\n",
       "      <td>69</td>\n",
       "    </tr>\n",
       "    <tr>\n",
       "      <th>4</th>\n",
       "      <td>On or near Sutton</td>\n",
       "      <td>52</td>\n",
       "    </tr>\n",
       "  </tbody>\n",
       "</table>\n",
       "</div>"
      ],
      "text/plain": [
       "                 Street Name  Number of Crimes\n",
       "0   On or near Shopping Area               153\n",
       "1     On or near Supermarket               117\n",
       "2     On or near High Street               104\n",
       "3  On or near Petrol Station                69\n",
       "4          On or near Sutton                52"
      ]
     },
     "execution_count": 14,
     "metadata": {},
     "output_type": "execute_result"
    }
   ],
   "source": [
    "# Group by street name and count number of crimes\n",
    "top_streets = df['street_name'].value_counts().head(5)\n",
    "\n",
    "# Display the result as a DataFrame for readability\n",
    "top_streets_df = top_streets.reset_index()\n",
    "top_streets_df.columns = ['Street Name', 'Number of Crimes']\n",
    "\n",
    "top_streets_df\n"
   ]
  }
 ],
 "metadata": {
  "kernelspec": {
   "display_name": "Python 3.12.1 64-bit",
   "language": "python",
   "name": "python3"
  },
  "language_info": {
   "codemirror_mode": {
    "name": "ipython",
    "version": 3
   },
   "file_extension": ".py",
   "mimetype": "text/x-python",
   "name": "python",
   "nbconvert_exporter": "python",
   "pygments_lexer": "ipython3",
   "version": "3.12.1"
  },
  "orig_nbformat": 4,
  "vscode": {
   "interpreter": {
    "hash": "3fcbd7240ee8f908d933dc7f71e8c42a1a91163b70ede8dcff5146d4087436c7"
   }
  }
 },
 "nbformat": 4,
 "nbformat_minor": 2
}
